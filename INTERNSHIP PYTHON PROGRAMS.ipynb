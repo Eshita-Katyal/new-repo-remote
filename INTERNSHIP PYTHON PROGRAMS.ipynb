{
 "cells": [
  {
   "cell_type": "markdown",
   "id": "10102077",
   "metadata": {},
   "source": [
    "# PYTHON PROGRAM TO ADD TWO NUMBERS"
   ]
  },
  {
   "cell_type": "code",
   "execution_count": 1,
   "id": "2c52e13c",
   "metadata": {},
   "outputs": [
    {
     "name": "stdout",
     "output_type": "stream",
     "text": [
      "Enter first number: 34\n",
      "Enter second number: 89\n",
      "The sum of 34.0 and 89.0 is 123.0\n"
     ]
    }
   ],
   "source": [
    "def add_numbers(num1,num2):\n",
    "    return num1 + num2\n",
    "num1=float(input(\"Enter first number: \"))\n",
    "num2=float(input(\"Enter second number: \"))\n",
    "result= add_numbers(num1,num2)\n",
    "print(\"The sum of\",num1,\"and\",num2,\"is\",result)"
   ]
  },
  {
   "cell_type": "markdown",
   "id": "35c8f59a",
   "metadata": {},
   "source": [
    "# MAXIMUM OF TWO NUMBERS"
   ]
  },
  {
   "cell_type": "code",
   "execution_count": 2,
   "id": "a2fc178f",
   "metadata": {},
   "outputs": [
    {
     "name": "stdout",
     "output_type": "stream",
     "text": [
      "Enter first number: 67\n",
      "Enter second number: 54\n",
      "The maximum of 67.0 and 89.0 is 89.0\n"
     ]
    }
   ],
   "source": [
    "num1= float(input(\"Enter first number: \"))\n",
    "num2- float(input(\"Enter second number: \"))\n",
    "maximum= max(num1,num2)\n",
    "print(\"The maximum of\",num1,\"and\",num2,\"is\",maximum)"
   ]
  },
  {
   "cell_type": "markdown",
   "id": "e1336582",
   "metadata": {},
   "source": [
    "# PYTHON PROGRAM FOR FACTORIAL OF A NUMBER "
   ]
  },
  {
   "cell_type": "markdown",
   "id": "a598e3a0",
   "metadata": {},
   "source": [
    " def factorial(n):\n",
    "    if n==0:\n",
    "        return 1\n",
    "    else:\n",
    "        return n*factorial(n-1)\n",
    "num=int(input(\"Enter the number: \"))\n",
    "if num<0:\n",
    "    print(\"factorial is not defined for negative numbers.\")\n",
    "elif num==0:\n",
    "    print(\"The factorial of 0 is 1.\")\n",
    "else:\n",
    "    print(\"The factorial of\",num,\"is\",factorial(num))"
   ]
  },
  {
   "cell_type": "markdown",
   "id": "6c218400",
   "metadata": {},
   "source": [
    "# PYTHON PROGRAM  FOR SIMPLE INTEREST"
   ]
  },
  {
   "cell_type": "code",
   "execution_count": 4,
   "id": "0fb83ce8",
   "metadata": {},
   "outputs": [
    {
     "name": "stdout",
     "output_type": "stream",
     "text": [
      "The principal is 8\n",
      "The time period is 6\n",
      "The rate of interest is 8\n",
      "The Simple Interest is 3.84\n"
     ]
    },
    {
     "data": {
      "text/plain": [
       "3.84"
      ]
     },
     "execution_count": 4,
     "metadata": {},
     "output_type": "execute_result"
    }
   ],
   "source": [
    "# Python3 program to find simple interest\n",
    "# for given principal amount, time and\n",
    "# rate of interest.\n",
    "def simple_interest(p,t,r):\n",
    "    print('The principal is', p)\n",
    "    print('The time period is', t)\n",
    "    print('The rate of interest is',r)\n",
    "    si = (p * t * r)/100\n",
    "    print('The Simple Interest is', si)\n",
    "    return si\n",
    "# Driver code\n",
    "simple_interest(8, 6, 8)"
   ]
  },
  {
   "cell_type": "markdown",
   "id": "3efa62da",
   "metadata": {},
   "source": [
    "# PYTHON PROGRAM FOR COMPOUND INTEREST"
   ]
  },
  {
   "cell_type": "code",
   "execution_count": 10,
   "id": "448e1d03",
   "metadata": {},
   "outputs": [
    {
     "name": "stdout",
     "output_type": "stream",
     "text": [
      "Compound interest is 6288.946267774416\n"
     ]
    }
   ],
   "source": [
    "# Python3 program to find compound\n",
    "# interest for given values.\n",
    "def compound_interest(principal, rate, time):\n",
    "\n",
    "\t# Calculates compound interest\n",
    "\tAmount = principal * (pow((1 + rate / 100), time))\n",
    "\tCI = Amount - principal\n",
    "\tprint(\"Compound interest is\", CI)\n",
    "# Driver Code\n",
    "compound_interest(10000, 10.25, 5)"
   ]
  },
  {
   "cell_type": "markdown",
   "id": "9faca396",
   "metadata": {},
   "source": [
    "# PYTHON PROGRAM TO CHECK ARMSTRONG NUMBER"
   ]
  },
  {
   "cell_type": "code",
   "execution_count": 11,
   "id": "520ec5dd",
   "metadata": {},
   "outputs": [
    {
     "name": "stdout",
     "output_type": "stream",
     "text": [
      "True\n",
      "False\n"
     ]
    }
   ],
   "source": [
    "# Python program to determine whether\n",
    "# the number is Armstrong number or not\n",
    "\n",
    "# Function to calculate x raised to \n",
    "# the power y\n",
    "def power(x, y):\n",
    "\t\n",
    "\tif y == 0:\n",
    "\t\treturn 1\n",
    "\tif y % 2 == 0:\n",
    "\t\treturn power(x, y // 2) * power(x, y // 2)\n",
    "\t\t\n",
    "\treturn x * power(x, y // 2) * power(x, y // 2)\n",
    "\n",
    "# Function to calculate order of the number\n",
    "def order(x):\n",
    "\n",
    "\t# Variable to store of the number\n",
    "\tn = 0\n",
    "\twhile (x != 0):\n",
    "\t\tn = n + 1\n",
    "\t\tx = x // 10\n",
    "\t\t\n",
    "\treturn n\n",
    "\n",
    "# Function to check whether the given \n",
    "# number is Armstrong number or not\n",
    "def isArmstrong(x):\n",
    "\t\n",
    "\tn = order(x)\n",
    "\ttemp = x\n",
    "\tsum1 = 0\n",
    "\t\n",
    "\twhile (temp != 0):\n",
    "\t\tr = temp % 10\n",
    "\t\tsum1 = sum1 + power(r, n)\n",
    "\t\ttemp = temp // 10\n",
    "\n",
    "\t# If condition satisfies\n",
    "\treturn (sum1 == x)\n",
    "\n",
    "# Driver code\n",
    "x = 153\n",
    "print(isArmstrong(x))\n",
    "\n",
    "x = 1253\n",
    "print(isArmstrong(x))"
   ]
  },
  {
   "cell_type": "markdown",
   "id": "ca4c06dd",
   "metadata": {},
   "source": [
    "# PYTHON PROGRAM  TO FIND AREA OF A CRICLE"
   ]
  },
  {
   "cell_type": "code",
   "execution_count": 12,
   "id": "0bffead2",
   "metadata": {},
   "outputs": [
    {
     "name": "stdout",
     "output_type": "stream",
     "text": [
      "Area is 78.550000\n"
     ]
    }
   ],
   "source": [
    "# Python program to find Area of a circle\n",
    "\n",
    "def findArea(r):\n",
    "\tPI = 3.142\n",
    "\treturn PI * (r*r);\n",
    "\n",
    "# Driver method\n",
    "print(\"Area is %.6f\" % findArea(5));"
   ]
  },
  {
   "cell_type": "markdown",
   "id": "7d7db560",
   "metadata": {},
   "source": [
    "# PYTHON PROGRAM TO PRINT ALL THE PRIME NUMBERS IN A INTERVAL"
   ]
  },
  {
   "cell_type": "code",
   "execution_count": 1,
   "id": "1d51f9b0",
   "metadata": {},
   "outputs": [
    {
     "name": "stdout",
     "output_type": "stream",
     "text": [
      "The prime numbers in this range are:  [2, 3, 5]\n"
     ]
    }
   ],
   "source": [
    "# Python program to print all\n",
    "# prime number in an interval\n",
    "\n",
    "def prime(x, y):\n",
    "\tprime_list = []\n",
    "\tfor i in range(x, y):\n",
    "\t\tif i == 0 or i == 1:\n",
    "\t\t\tcontinue\n",
    "\t\telse:\n",
    "\t\t\tfor j in range(2, int(i/2)+1):\n",
    "\t\t\t\tif i % j == 0:\n",
    "\t\t\t\t\tbreak\n",
    "\t\t\telse:\n",
    "\t\t\t\tprime_list.append(i)\n",
    "\treturn prime_list\n",
    "starting_range = 2\n",
    "ending_range = 7\n",
    "lst = prime(starting_range, ending_range)\n",
    "if len(lst) == 0:\n",
    "\tprint(\"There are no prime numbers in this range\")\n",
    "else:\n",
    "\tprint(\"The prime numbers in this range are: \", lst)"
   ]
  },
  {
   "cell_type": "markdown",
   "id": "d6f41ced",
   "metadata": {},
   "source": [
    "# PYTHON PROGRAM TO CHECK WHETHER A NUMBER IS PRIME OR NOT"
   ]
  },
  {
   "cell_type": "code",
   "execution_count": 2,
   "id": "a9e12051",
   "metadata": {},
   "outputs": [
    {
     "name": "stdout",
     "output_type": "stream",
     "text": [
      "11 is a prime number\n"
     ]
    }
   ],
   "source": [
    "num = 11\n",
    "# If given number is greater than 1\n",
    "if num > 1:\n",
    "\t# Iterate from 2 to n / 2\n",
    "\tfor i in range(2, int(num/2)+1):\n",
    "\t\t# If num is divisible by any number between\n",
    "\t\t# 2 and n / 2, it is not prime\n",
    "\t\tif (num % i) == 0:\n",
    "\t\t\tprint(num, \"is not a prime number\")\n",
    "\t\t\tbreak\n",
    "\telse:\n",
    "\t\tprint(num, \"is a prime number\")\n",
    "else:\n",
    "\tprint(num, \"is not a prime number\")"
   ]
  },
  {
   "cell_type": "markdown",
   "id": "7c123a1f",
   "metadata": {},
   "source": [
    "# PYTHON PROGRAM FOR NTH FIBONACCI NUMBER"
   ]
  },
  {
   "cell_type": "code",
   "execution_count": null,
   "id": "aae9d769",
   "metadata": {},
   "outputs": [],
   "source": []
  }
 ],
 "metadata": {
  "kernelspec": {
   "display_name": "Python 3 (ipykernel)",
   "language": "python",
   "name": "python3"
  },
  "language_info": {
   "codemirror_mode": {
    "name": "ipython",
    "version": 3
   },
   "file_extension": ".py",
   "mimetype": "text/x-python",
   "name": "python",
   "nbconvert_exporter": "python",
   "pygments_lexer": "ipython3",
   "version": "3.11.5"
  }
 },
 "nbformat": 4,
 "nbformat_minor": 5
}
